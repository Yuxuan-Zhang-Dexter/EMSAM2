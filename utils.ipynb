{
 "cells": [
  {
   "cell_type": "code",
   "execution_count": null,
   "metadata": {},
   "outputs": [],
   "source": [
    "import matplotlib.pyplot as plt\n",
    "import os\n",
    "\n",
    "def visualize_loss(train_loss_file, val_loss_file):\n",
    "\n",
    "    epochs = []\n",
    "    train_loss = []\n",
    "    val_loss = []\n",
    "\n",
    "    # Read training loss data\n",
    "    with open(train_loss_file, \"r\") as f:\n",
    "        for line in f:\n",
    "            epoch, loss = line.strip().split(',')\n",
    "            epochs.append(int(epoch))\n",
    "            train_loss.append(float(loss))\n",
    "\n",
    "    # Read validation loss data\n",
    "    with open(val_loss_file, \"r\") as f:\n",
    "        for line in f:\n",
    "            _, loss = line.strip().split(',')\n",
    "            val_loss.append(float(loss))\n",
    "\n",
    "    # Plot training and validation loss\n",
    "    plt.figure(figsize=(10, 5))\n",
    "\n",
    "    # Training loss\n",
    "    plt.subplot(1, 2, 1)\n",
    "    plt.plot(epochs, train_loss, label=\"Training Loss\", color=\"blue\")\n",
    "    plt.xlabel(\"Epochs\")\n",
    "    plt.ylabel(\"Loss\")\n",
    "    plt.title(\"Training Loss Over Epochs\")\n",
    "    plt.legend()\n",
    "\n",
    "    # Validation loss\n",
    "    plt.subplot(1, 2, 2)\n",
    "    plt.plot(epochs, val_loss, label=\"Validation Loss\", color=\"orange\")\n",
    "    plt.xlabel(\"Epochs\")\n",
    "    plt.ylabel(\"Loss\")\n",
    "    plt.title(\"Validation Loss Over Epochs\")\n",
    "    plt.legend()\n",
    "\n",
    "    # Display the plots\n",
    "    plt.tight_layout()\n",
    "    plt.show()\n",
    "\n",
    "visualize_loss(\"./log/flo_train_loss.txt\", \"./log/flo_val_loss.txt\")\n"
   ]
  }
 ],
 "metadata": {
  "language_info": {
   "name": "python"
  }
 },
 "nbformat": 4,
 "nbformat_minor": 2
}
